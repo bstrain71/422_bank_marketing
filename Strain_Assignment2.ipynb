{
  "nbformat": 4,
  "nbformat_minor": 0,
  "metadata": {
    "colab": {
      "name": "Strain_Assignment2.ipynb",
      "provenance": [],
      "collapsed_sections": [],
      "include_colab_link": true
    },
    "kernelspec": {
      "name": "python3",
      "display_name": "Python 3"
    }
  },
  "cells": [
    {
      "cell_type": "markdown",
      "metadata": {
        "id": "view-in-github",
        "colab_type": "text"
      },
      "source": [
        "<a href=\"https://colab.research.google.com/github/bstrain71/422_bank_marketing/blob/master/Strain_Assignment2.ipynb\" target=\"_parent\"><img src=\"https://colab.research.google.com/assets/colab-badge.svg\" alt=\"Open In Colab\"/></a>"
      ]
    },
    {
      "cell_type": "markdown",
      "metadata": {
        "id": "LerNFTa3twm7",
        "colab_type": "text"
      },
      "source": [
        "## Ingest"
      ]
    },
    {
      "cell_type": "code",
      "metadata": {
        "id": "2Yz66McAs_Ug",
        "colab_type": "code",
        "outputId": "b6bfc445-8f45-46fe-a3fa-f2dbf2d610be",
        "colab": {
          "base_uri": "https://localhost:8080/",
          "height": 35
        }
      },
      "source": [
        "# Scikit Learn documentation for this assignment:\n",
        "# http://scikit-learn.org/stable/auto_examples/classification/\n",
        "#   plot_classifier_comparison.html\n",
        "# http://scikit-learn.org/stable/modules/generated/\n",
        "#   sklearn.naive_bayes.BernoulliNB.html#sklearn.naive_bayes.BernoulliNB.score\n",
        "# http://scikit-learn.org/stable/modules/generated/\n",
        "#   sklearn.linear_model.LogisticRegression.html\n",
        "# http://scikit-learn.org/stable/modules/model_evaluation.html \n",
        "# http://scikit-learn.org/stable/modules/generated/\n",
        "#  sklearn.model_selection.KFold.html\n",
        "\n",
        "# seed value for random number generators to obtain reproducible results\n",
        "RANDOM_SEED = 24601\n",
        "\n",
        "# import base packages into the namespace for this program\n",
        "import numpy as np\n",
        "import pandas as pd\n",
        "import sklearn\n",
        "import sklearn.model_selection\n",
        "\n",
        "# initial work with the smaller data set\n",
        "bank = pd.read_csv('https://raw.githubusercontent.com/bstrain71/422_bank_marketing/master/bank.csv', sep = ';')  # start with smaller data set\n",
        "# examine the shape of original input data\n",
        "print(bank.shape)"
      ],
      "execution_count": 91,
      "outputs": [
        {
          "output_type": "stream",
          "text": [
            "(4521, 17)\n"
          ],
          "name": "stdout"
        }
      ]
    },
    {
      "cell_type": "code",
      "metadata": {
        "id": "py2zbVBlccz7",
        "colab_type": "code",
        "outputId": "d42da2e5-6b20-45c5-b088-49927af53697",
        "colab": {
          "base_uri": "https://localhost:8080/",
          "height": 35
        }
      },
      "source": [
        "\n",
        "# drop observations with missing data, if any\n",
        "bank.dropna()\n",
        "# examine the shape of input data after dropping missing data\n",
        "# no na wow a miracle\n",
        "print(bank.shape)\n"
      ],
      "execution_count": 92,
      "outputs": [
        {
          "output_type": "stream",
          "text": [
            "(4521, 17)\n"
          ],
          "name": "stdout"
        }
      ]
    },
    {
      "cell_type": "markdown",
      "metadata": {
        "id": "-JEgbkpOdJdE",
        "colab_type": "text"
      },
      "source": [
        "## EDA\n"
      ]
    },
    {
      "cell_type": "code",
      "metadata": {
        "id": "5t96PSqecf7y",
        "colab_type": "code",
        "outputId": "d9ddb999-83f1-440f-b317-ef854fb749ab",
        "colab": {
          "base_uri": "https://localhost:8080/",
          "height": 329
        }
      },
      "source": [
        "\n",
        "# look at the list of column names, note that y is the response\n",
        "list(bank.columns.values)\n"
      ],
      "execution_count": 93,
      "outputs": [
        {
          "output_type": "execute_result",
          "data": {
            "text/plain": [
              "['age',\n",
              " 'job',\n",
              " 'marital',\n",
              " 'education',\n",
              " 'default',\n",
              " 'balance',\n",
              " 'housing',\n",
              " 'loan',\n",
              " 'contact',\n",
              " 'day',\n",
              " 'month',\n",
              " 'duration',\n",
              " 'campaign',\n",
              " 'pdays',\n",
              " 'previous',\n",
              " 'poutcome',\n",
              " 'response']"
            ]
          },
          "metadata": {
            "tags": []
          },
          "execution_count": 93
        }
      ]
    },
    {
      "cell_type": "code",
      "metadata": {
        "id": "6fXMeeSGcuLv",
        "colab_type": "code",
        "outputId": "5ab567ab-1430-427a-88df-8574d71ec199",
        "colab": {
          "base_uri": "https://localhost:8080/",
          "height": 206
        }
      },
      "source": [
        "\n",
        "# look at the beginning of the DataFrame\n",
        "bank.head()\n"
      ],
      "execution_count": 94,
      "outputs": [
        {
          "output_type": "execute_result",
          "data": {
            "text/html": [
              "<div>\n",
              "<style scoped>\n",
              "    .dataframe tbody tr th:only-of-type {\n",
              "        vertical-align: middle;\n",
              "    }\n",
              "\n",
              "    .dataframe tbody tr th {\n",
              "        vertical-align: top;\n",
              "    }\n",
              "\n",
              "    .dataframe thead th {\n",
              "        text-align: right;\n",
              "    }\n",
              "</style>\n",
              "<table border=\"1\" class=\"dataframe\">\n",
              "  <thead>\n",
              "    <tr style=\"text-align: right;\">\n",
              "      <th></th>\n",
              "      <th>age</th>\n",
              "      <th>job</th>\n",
              "      <th>marital</th>\n",
              "      <th>education</th>\n",
              "      <th>default</th>\n",
              "      <th>balance</th>\n",
              "      <th>housing</th>\n",
              "      <th>loan</th>\n",
              "      <th>contact</th>\n",
              "      <th>day</th>\n",
              "      <th>month</th>\n",
              "      <th>duration</th>\n",
              "      <th>campaign</th>\n",
              "      <th>pdays</th>\n",
              "      <th>previous</th>\n",
              "      <th>poutcome</th>\n",
              "      <th>response</th>\n",
              "    </tr>\n",
              "  </thead>\n",
              "  <tbody>\n",
              "    <tr>\n",
              "      <th>0</th>\n",
              "      <td>30</td>\n",
              "      <td>unemployed</td>\n",
              "      <td>married</td>\n",
              "      <td>primary</td>\n",
              "      <td>no</td>\n",
              "      <td>1787</td>\n",
              "      <td>no</td>\n",
              "      <td>no</td>\n",
              "      <td>cellular</td>\n",
              "      <td>19</td>\n",
              "      <td>oct</td>\n",
              "      <td>79</td>\n",
              "      <td>1</td>\n",
              "      <td>-1</td>\n",
              "      <td>0</td>\n",
              "      <td>unknown</td>\n",
              "      <td>no</td>\n",
              "    </tr>\n",
              "    <tr>\n",
              "      <th>1</th>\n",
              "      <td>33</td>\n",
              "      <td>services</td>\n",
              "      <td>married</td>\n",
              "      <td>secondary</td>\n",
              "      <td>no</td>\n",
              "      <td>4789</td>\n",
              "      <td>yes</td>\n",
              "      <td>yes</td>\n",
              "      <td>cellular</td>\n",
              "      <td>11</td>\n",
              "      <td>may</td>\n",
              "      <td>220</td>\n",
              "      <td>1</td>\n",
              "      <td>339</td>\n",
              "      <td>4</td>\n",
              "      <td>failure</td>\n",
              "      <td>no</td>\n",
              "    </tr>\n",
              "    <tr>\n",
              "      <th>2</th>\n",
              "      <td>35</td>\n",
              "      <td>management</td>\n",
              "      <td>single</td>\n",
              "      <td>tertiary</td>\n",
              "      <td>no</td>\n",
              "      <td>1350</td>\n",
              "      <td>yes</td>\n",
              "      <td>no</td>\n",
              "      <td>cellular</td>\n",
              "      <td>16</td>\n",
              "      <td>apr</td>\n",
              "      <td>185</td>\n",
              "      <td>1</td>\n",
              "      <td>330</td>\n",
              "      <td>1</td>\n",
              "      <td>failure</td>\n",
              "      <td>no</td>\n",
              "    </tr>\n",
              "    <tr>\n",
              "      <th>3</th>\n",
              "      <td>30</td>\n",
              "      <td>management</td>\n",
              "      <td>married</td>\n",
              "      <td>tertiary</td>\n",
              "      <td>no</td>\n",
              "      <td>1476</td>\n",
              "      <td>yes</td>\n",
              "      <td>yes</td>\n",
              "      <td>unknown</td>\n",
              "      <td>3</td>\n",
              "      <td>jun</td>\n",
              "      <td>199</td>\n",
              "      <td>4</td>\n",
              "      <td>-1</td>\n",
              "      <td>0</td>\n",
              "      <td>unknown</td>\n",
              "      <td>no</td>\n",
              "    </tr>\n",
              "    <tr>\n",
              "      <th>4</th>\n",
              "      <td>59</td>\n",
              "      <td>blue-collar</td>\n",
              "      <td>married</td>\n",
              "      <td>secondary</td>\n",
              "      <td>no</td>\n",
              "      <td>0</td>\n",
              "      <td>yes</td>\n",
              "      <td>no</td>\n",
              "      <td>unknown</td>\n",
              "      <td>5</td>\n",
              "      <td>may</td>\n",
              "      <td>226</td>\n",
              "      <td>1</td>\n",
              "      <td>-1</td>\n",
              "      <td>0</td>\n",
              "      <td>unknown</td>\n",
              "      <td>no</td>\n",
              "    </tr>\n",
              "  </tbody>\n",
              "</table>\n",
              "</div>"
            ],
            "text/plain": [
              "   age          job  marital  education  ... pdays  previous poutcome response\n",
              "0   30   unemployed  married    primary  ...    -1         0  unknown       no\n",
              "1   33     services  married  secondary  ...   339         4  failure       no\n",
              "2   35   management   single   tertiary  ...   330         1  failure       no\n",
              "3   30   management  married   tertiary  ...    -1         0  unknown       no\n",
              "4   59  blue-collar  married  secondary  ...    -1         0  unknown       no\n",
              "\n",
              "[5 rows x 17 columns]"
            ]
          },
          "metadata": {
            "tags": []
          },
          "execution_count": 94
        }
      ]
    },
    {
      "cell_type": "code",
      "metadata": {
        "id": "MXq8pLWG5Foa",
        "colab_type": "code",
        "outputId": "9708e152-a7b2-44e0-a7e4-c80b974f80e3",
        "colab": {
          "base_uri": "https://localhost:8080/",
          "height": 72
        }
      },
      "source": [
        "bank.response.value_counts() # there are 521 yes and 4000 no"
      ],
      "execution_count": 95,
      "outputs": [
        {
          "output_type": "execute_result",
          "data": {
            "text/plain": [
              "no     4000\n",
              "yes     521\n",
              "Name: response, dtype: int64"
            ]
          },
          "metadata": {
            "tags": []
          },
          "execution_count": 95
        }
      ]
    },
    {
      "cell_type": "code",
      "metadata": {
        "id": "3fGQ4sjLcw2J",
        "colab_type": "code",
        "outputId": "3fddc486-0651-4bcc-c24f-8b7364b1892f",
        "colab": {
          "base_uri": "https://localhost:8080/",
          "height": 201
        }
      },
      "source": [
        "\n",
        "# mapping function to convert text no/yes to integer 0/1\n",
        "convert_to_binary = {'no' : 0, 'yes' : 1}\n",
        "\n",
        "# define binary variable for having credit in default\n",
        "default = bank['default'].map(convert_to_binary)\n",
        "\n",
        "# define binary variable for having a mortgage or housing loan\n",
        "housing = bank['housing'].map(convert_to_binary)\n",
        "\n",
        "# define binary variable for having a personal loan\n",
        "loan = bank['loan'].map(convert_to_binary)\n",
        "\n",
        "# define response variable to use in the model\n",
        "response = bank['response'].map(convert_to_binary)\n",
        "\n",
        "# gather three explanatory variables and response into a numpy array \n",
        "# here we use .T to obtain the transpose for the structure we want\n",
        "model_data = np.array([np.array(default), np.array(housing), np.array(loan), \n",
        "    np.array(response)]).T\n",
        "\n",
        "# examine the shape of model_data, which we will use in subsequent modeling\n",
        "print(model_data.shape)\n",
        "print(model_data[1:10,])\n",
        "\n",
        "# the rest of the program should set up the modeling methods\n",
        "# and evaluation within a cross-validation design\n",
        "\n",
        "# the response variable is in the last column, 3"
      ],
      "execution_count": 96,
      "outputs": [
        {
          "output_type": "stream",
          "text": [
            "(4521, 4)\n",
            "[[0 1 1 0]\n",
            " [0 1 0 0]\n",
            " [0 1 1 0]\n",
            " [0 1 0 0]\n",
            " [0 0 0 0]\n",
            " [0 1 0 0]\n",
            " [0 1 0 0]\n",
            " [0 1 0 0]\n",
            " [0 1 1 0]]\n"
          ],
          "name": "stdout"
        }
      ]
    },
    {
      "cell_type": "code",
      "metadata": {
        "id": "6XxTYrQsDGn0",
        "colab_type": "code",
        "outputId": "11ef5fe6-b2c4-416e-987f-e1148695d33e",
        "colab": {
          "base_uri": "https://localhost:8080/",
          "height": 35
        }
      },
      "source": [
        "sum(model_data[:,3])"
      ],
      "execution_count": 97,
      "outputs": [
        {
          "output_type": "execute_result",
          "data": {
            "text/plain": [
              "521"
            ]
          },
          "metadata": {
            "tags": []
          },
          "execution_count": 97
        }
      ]
    },
    {
      "cell_type": "code",
      "metadata": {
        "id": "ytAAd0QKcOhB",
        "colab_type": "code",
        "outputId": "5873b371-3a01-4046-dc98-dfa12bac227b",
        "colab": {
          "base_uri": "https://localhost:8080/",
          "height": 143
        }
      },
      "source": [
        "# response vs default: only 9 intersections\n",
        "pd.crosstab(model_data[:,3], model_data[:,0])\n",
        "\n"
      ],
      "execution_count": 98,
      "outputs": [
        {
          "output_type": "execute_result",
          "data": {
            "text/html": [
              "<div>\n",
              "<style scoped>\n",
              "    .dataframe tbody tr th:only-of-type {\n",
              "        vertical-align: middle;\n",
              "    }\n",
              "\n",
              "    .dataframe tbody tr th {\n",
              "        vertical-align: top;\n",
              "    }\n",
              "\n",
              "    .dataframe thead th {\n",
              "        text-align: right;\n",
              "    }\n",
              "</style>\n",
              "<table border=\"1\" class=\"dataframe\">\n",
              "  <thead>\n",
              "    <tr style=\"text-align: right;\">\n",
              "      <th>col_0</th>\n",
              "      <th>0</th>\n",
              "      <th>1</th>\n",
              "    </tr>\n",
              "    <tr>\n",
              "      <th>row_0</th>\n",
              "      <th></th>\n",
              "      <th></th>\n",
              "    </tr>\n",
              "  </thead>\n",
              "  <tbody>\n",
              "    <tr>\n",
              "      <th>0</th>\n",
              "      <td>3933</td>\n",
              "      <td>67</td>\n",
              "    </tr>\n",
              "    <tr>\n",
              "      <th>1</th>\n",
              "      <td>512</td>\n",
              "      <td>9</td>\n",
              "    </tr>\n",
              "  </tbody>\n",
              "</table>\n",
              "</div>"
            ],
            "text/plain": [
              "col_0     0   1\n",
              "row_0          \n",
              "0      3933  67\n",
              "1       512   9"
            ]
          },
          "metadata": {
            "tags": []
          },
          "execution_count": 98
        }
      ]
    },
    {
      "cell_type": "code",
      "metadata": {
        "id": "ae_wFxqGfz9z",
        "colab_type": "code",
        "outputId": "ffc118da-2d6c-4d23-cf37-d45d85d418ac",
        "colab": {
          "base_uri": "https://localhost:8080/",
          "height": 143
        }
      },
      "source": [
        "# response vs housing: 220 intersections\n",
        "pd.crosstab(model_data[:,3], model_data[:,1])\n"
      ],
      "execution_count": 99,
      "outputs": [
        {
          "output_type": "execute_result",
          "data": {
            "text/html": [
              "<div>\n",
              "<style scoped>\n",
              "    .dataframe tbody tr th:only-of-type {\n",
              "        vertical-align: middle;\n",
              "    }\n",
              "\n",
              "    .dataframe tbody tr th {\n",
              "        vertical-align: top;\n",
              "    }\n",
              "\n",
              "    .dataframe thead th {\n",
              "        text-align: right;\n",
              "    }\n",
              "</style>\n",
              "<table border=\"1\" class=\"dataframe\">\n",
              "  <thead>\n",
              "    <tr style=\"text-align: right;\">\n",
              "      <th>col_0</th>\n",
              "      <th>0</th>\n",
              "      <th>1</th>\n",
              "    </tr>\n",
              "    <tr>\n",
              "      <th>row_0</th>\n",
              "      <th></th>\n",
              "      <th></th>\n",
              "    </tr>\n",
              "  </thead>\n",
              "  <tbody>\n",
              "    <tr>\n",
              "      <th>0</th>\n",
              "      <td>1661</td>\n",
              "      <td>2339</td>\n",
              "    </tr>\n",
              "    <tr>\n",
              "      <th>1</th>\n",
              "      <td>301</td>\n",
              "      <td>220</td>\n",
              "    </tr>\n",
              "  </tbody>\n",
              "</table>\n",
              "</div>"
            ],
            "text/plain": [
              "col_0     0     1\n",
              "row_0            \n",
              "0      1661  2339\n",
              "1       301   220"
            ]
          },
          "metadata": {
            "tags": []
          },
          "execution_count": 99
        }
      ]
    },
    {
      "cell_type": "code",
      "metadata": {
        "id": "7zBFg3gjf0dc",
        "colab_type": "code",
        "outputId": "268af07f-a615-4454-8f85-9ff84695142c",
        "colab": {
          "base_uri": "https://localhost:8080/",
          "height": 143
        }
      },
      "source": [
        "# response vs loan: 43 intersections\n",
        "pd.crosstab(model_data[:,3], model_data[:,2])\n"
      ],
      "execution_count": 100,
      "outputs": [
        {
          "output_type": "execute_result",
          "data": {
            "text/html": [
              "<div>\n",
              "<style scoped>\n",
              "    .dataframe tbody tr th:only-of-type {\n",
              "        vertical-align: middle;\n",
              "    }\n",
              "\n",
              "    .dataframe tbody tr th {\n",
              "        vertical-align: top;\n",
              "    }\n",
              "\n",
              "    .dataframe thead th {\n",
              "        text-align: right;\n",
              "    }\n",
              "</style>\n",
              "<table border=\"1\" class=\"dataframe\">\n",
              "  <thead>\n",
              "    <tr style=\"text-align: right;\">\n",
              "      <th>col_0</th>\n",
              "      <th>0</th>\n",
              "      <th>1</th>\n",
              "    </tr>\n",
              "    <tr>\n",
              "      <th>row_0</th>\n",
              "      <th></th>\n",
              "      <th></th>\n",
              "    </tr>\n",
              "  </thead>\n",
              "  <tbody>\n",
              "    <tr>\n",
              "      <th>0</th>\n",
              "      <td>3352</td>\n",
              "      <td>648</td>\n",
              "    </tr>\n",
              "    <tr>\n",
              "      <th>1</th>\n",
              "      <td>478</td>\n",
              "      <td>43</td>\n",
              "    </tr>\n",
              "  </tbody>\n",
              "</table>\n",
              "</div>"
            ],
            "text/plain": [
              "col_0     0    1\n",
              "row_0           \n",
              "0      3352  648\n",
              "1       478   43"
            ]
          },
          "metadata": {
            "tags": []
          },
          "execution_count": 100
        }
      ]
    },
    {
      "cell_type": "markdown",
      "metadata": {
        "id": "tQHDfZxVt1YD",
        "colab_type": "text"
      },
      "source": [
        "## Modelling"
      ]
    },
    {
      "cell_type": "markdown",
      "metadata": {
        "id": "x3h0n7M70ifH",
        "colab_type": "text"
      },
      "source": [
        "If a simple logistic regression model with L2 regularization is run on the data the model predicts that no one will respond \"yes\" to the question of whether or not they have subscribed to a term deposit."
      ]
    },
    {
      "cell_type": "code",
      "metadata": {
        "id": "5xxIR-60dO3R",
        "colab_type": "code",
        "colab": {}
      },
      "source": [
        "from sklearn.model_selection import train_test_split\n",
        "from sklearn.linear_model import LogisticRegression\n",
        "from sklearn import metrics\n",
        "\n",
        "#X_train, X_test, y_train, y_test = train_test_split(\n",
        "#model_data[:,0:3], model_data[:,3],\n",
        "#stratify = model_data[:,3], random_state=24601)\n",
        "\n",
        "# split the model into yes and no so I can ensure that the \"yes\" responses\n",
        "# are evenly distributed in the train / test set. train_test_split can't\n",
        "# do this or I don't know how to make it do so\n",
        "\n",
        "# separate the yes' and no's\n",
        "yes = model_data[np.where(model_data[:,3] == 1)]\n",
        "no = model_data[np.where(model_data[:,3] == 0)]\n",
        "\n",
        "# randomly shuffle them\n",
        "np.random.seed(24601)\n",
        "np.random.shuffle(yes)\n",
        "np.random.shuffle(no)\n",
        "\n",
        "# 80% of 4000 no's is 3200 and 80% of 521 yes is 416.8 approx 417\n",
        "training_set = np.concatenate((no[:3199,:], yes[:416,:]), axis=0)\n",
        "test_set = np.concatenate((no[3199:,:], yes[416:,:]), axis=0)\n",
        "\n",
        "# split it up into variables that are nice to feed into the models\n",
        "X_train = training_set[:,0:3]\n",
        "X_test = test_set[:,0:3]\n",
        "y_train = training_set[:,3]\n",
        "y_test = test_set[:,3]"
      ],
      "execution_count": 0,
      "outputs": []
    },
    {
      "cell_type": "code",
      "metadata": {
        "id": "82M5wSC8pQmx",
        "colab_type": "code",
        "colab": {
          "base_uri": "https://localhost:8080/",
          "height": 237
        },
        "outputId": "abb2e729-2183-46fc-9a10-4eaa80202088"
      },
      "source": [
        "logreg = LogisticRegression(solver = 'lbfgs').fit(X_train, y_train)\n",
        "print(\"Training set score: {:.3f}\".format(logreg.score(X_train, y_train)))\n",
        "print(\"Test set score: {:.3f}\".format(logreg.score(X_test, y_test)))"
      ],
      "execution_count": 102,
      "outputs": [
        {
          "output_type": "stream",
          "text": [
            "Training set score: 0.885\n",
            "Test set score: 0.884\n",
            "                0\n",
            "count  906.000000\n",
            "mean     0.839956\n",
            "std      0.366850\n",
            "min      0.000000\n",
            "25%      1.000000\n",
            "50%      1.000000\n",
            "75%      1.000000\n",
            "max      1.000000\n"
          ],
          "name": "stdout"
        },
        {
          "output_type": "execute_result",
          "data": {
            "text/plain": [
              "761"
            ]
          },
          "metadata": {
            "tags": []
          },
          "execution_count": 102
        }
      ]
    },
    {
      "cell_type": "code",
      "metadata": {
        "id": "ZW8_mimwkBRa",
        "colab_type": "code",
        "colab": {
          "base_uri": "https://localhost:8080/",
          "height": 337
        },
        "outputId": "4b248920-5658-4fbd-ad92-9c6c4eca4748"
      },
      "source": [
        "\n",
        "from sklearn.naive_bayes import BernoulliNB\n",
        "\n",
        "\n",
        "bayes = BernoulliNB().fit(X_train, y_train)\n",
        "print(\"Training set score: {:.3f}\".format(bayes.score(X_train, y_train)))\n",
        "print(\"Test set score: {:.3f}\".format(bayes.score(X_test, y_test)))\n",
        "\n",
        "bayes_predictions = pd.DataFrame(bayes.predict(X_test))\n",
        "\n",
        "bayes_predictions.describe()"
      ],
      "execution_count": 103,
      "outputs": [
        {
          "output_type": "stream",
          "text": [
            "Training set score: 0.885\n",
            "Test set score: 0.884\n"
          ],
          "name": "stdout"
        },
        {
          "output_type": "execute_result",
          "data": {
            "text/html": [
              "<div>\n",
              "<style scoped>\n",
              "    .dataframe tbody tr th:only-of-type {\n",
              "        vertical-align: middle;\n",
              "    }\n",
              "\n",
              "    .dataframe tbody tr th {\n",
              "        vertical-align: top;\n",
              "    }\n",
              "\n",
              "    .dataframe thead th {\n",
              "        text-align: right;\n",
              "    }\n",
              "</style>\n",
              "<table border=\"1\" class=\"dataframe\">\n",
              "  <thead>\n",
              "    <tr style=\"text-align: right;\">\n",
              "      <th></th>\n",
              "      <th>0</th>\n",
              "    </tr>\n",
              "  </thead>\n",
              "  <tbody>\n",
              "    <tr>\n",
              "      <th>count</th>\n",
              "      <td>906.0</td>\n",
              "    </tr>\n",
              "    <tr>\n",
              "      <th>mean</th>\n",
              "      <td>0.0</td>\n",
              "    </tr>\n",
              "    <tr>\n",
              "      <th>std</th>\n",
              "      <td>0.0</td>\n",
              "    </tr>\n",
              "    <tr>\n",
              "      <th>min</th>\n",
              "      <td>0.0</td>\n",
              "    </tr>\n",
              "    <tr>\n",
              "      <th>25%</th>\n",
              "      <td>0.0</td>\n",
              "    </tr>\n",
              "    <tr>\n",
              "      <th>50%</th>\n",
              "      <td>0.0</td>\n",
              "    </tr>\n",
              "    <tr>\n",
              "      <th>75%</th>\n",
              "      <td>0.0</td>\n",
              "    </tr>\n",
              "    <tr>\n",
              "      <th>max</th>\n",
              "      <td>0.0</td>\n",
              "    </tr>\n",
              "  </tbody>\n",
              "</table>\n",
              "</div>"
            ],
            "text/plain": [
              "           0\n",
              "count  906.0\n",
              "mean     0.0\n",
              "std      0.0\n",
              "min      0.0\n",
              "25%      0.0\n",
              "50%      0.0\n",
              "75%      0.0\n",
              "max      0.0"
            ]
          },
          "metadata": {
            "tags": []
          },
          "execution_count": 103
        }
      ]
    },
    {
      "cell_type": "markdown",
      "metadata": {
        "id": "pCbnV1ASACJW",
        "colab_type": "text"
      },
      "source": [
        "These models are both garbage. Do some cross validation to verify."
      ]
    },
    {
      "cell_type": "code",
      "metadata": {
        "id": "o33T2-E5AwEN",
        "colab_type": "code",
        "colab": {
          "base_uri": "https://localhost:8080/",
          "height": 35
        },
        "outputId": "f910b34c-3869-459e-f495-60c3e1306e90"
      },
      "source": [
        "#model_data = pd.DataFrame(model_data)\n",
        "print(model_data[:,3])"
      ],
      "execution_count": 104,
      "outputs": [
        {
          "output_type": "stream",
          "text": [
            "[0 0 0 ... 0 0 0]\n"
          ],
          "name": "stdout"
        }
      ]
    },
    {
      "cell_type": "code",
      "metadata": {
        "id": "sNweE1yq8LZN",
        "colab_type": "code",
        "colab": {
          "base_uri": "https://localhost:8080/",
          "height": 54
        },
        "outputId": "5e926654-9258-47e5-ce81-7738c80a47aa"
      },
      "source": [
        "from sklearn.model_selection import cross_val_score\n",
        "\n",
        "# both return the trivial solution\n",
        "logreg_xscore = cross_val_score(logreg, model_data, model_data[:,3], cv=5)\n",
        "bayes_xscore = cross_val_score(bayes, model_data, model_data[:,3], cv=5)\n",
        "print(\"LogReg Accuracy: %0.2f (+/- %0.2f)\" % (logreg_xscore.mean(),\n",
        "                                       logreg_xscore.std() * 2))\n",
        "print(\"Bayes Accuracy: %0.2f (+/- %0.2f)\" % (bayes_xscore.mean(),\n",
        "                                       bayes_xscore.std() * 2))"
      ],
      "execution_count": 106,
      "outputs": [
        {
          "output_type": "stream",
          "text": [
            "LogReg Accuracy: 1.00 (+/- 0.00)\n",
            "Bayes Accuracy: 1.00 (+/- 0.00)\n"
          ],
          "name": "stdout"
        }
      ]
    },
    {
      "cell_type": "markdown",
      "metadata": {
        "id": "xL0JapwVJEFh",
        "colab_type": "text"
      },
      "source": [
        "Both the logistic regression model (with L2 regularization) and the Naïve Bayes model are unable to predict anything but the trivial solution without additional variables. I recommend that management pull their heads out of their ass and model a sparse dataset using more than just three binary predictor variables."
      ]
    },
    {
      "cell_type": "markdown",
      "metadata": {
        "id": "Hk-sWdlwEL0j",
        "colab_type": "text"
      },
      "source": [
        "Really incresing model sensitivity. Cutoff of 5%."
      ]
    },
    {
      "cell_type": "markdown",
      "metadata": {
        "id": "1EqpQu4ht2oe",
        "colab_type": "text"
      },
      "source": [
        "## Results"
      ]
    },
    {
      "cell_type": "code",
      "metadata": {
        "id": "UbVQDL2IJxnP",
        "colab_type": "code",
        "colab": {
          "base_uri": "https://localhost:8080/",
          "height": 143
        },
        "outputId": "c082d832-c34c-4f5b-d4b4-0ad5836a493a"
      },
      "source": [
        "\n",
        "# this predicts too many zeroes - trivial solution\n",
        "#logreg_predictions = pd.DataFrame(logreg.predict(X_test))\n",
        "#logreg_predictions.describe()\n",
        "\n",
        "logreg_predictions = logreg.predict_proba(X_test)\n",
        "\n",
        "# the probability of being y=1\n",
        "\n",
        "prob1 = logreg.predict_proba(X_test)[:,1]\n",
        "# If we use 0.25 as the cutoff value, then we predict like below\n",
        "\n",
        "# note: there are 416 'yes' in the test set\n",
        "co05 = [1 if i > 0.05 else 0 for i in prob1]\n",
        "co10 = [1 if i > 0.10 else 0 for i in prob1]\n",
        "co15 = [1 if i > 0.15 else 0 for i in prob1]\n",
        "co16 = [1 if i > 0.16 else 0 for i in prob1] # largest nontrivial cutoff\n",
        "co17 = [1 if i > 0.17 else 0 for i in prob1]\n",
        "\n",
        "# try some smaller increments\n",
        "co095 = [1 if i > 0.095 else 0 for i in prob1]\n",
        "\n",
        "#print(pd.DataFrame(co095).describe())\n",
        "#sum(co095)\n",
        "\n",
        "pd.crosstab([co095], [y_test])"
      ],
      "execution_count": 118,
      "outputs": [
        {
          "output_type": "execute_result",
          "data": {
            "text/html": [
              "<div>\n",
              "<style scoped>\n",
              "    .dataframe tbody tr th:only-of-type {\n",
              "        vertical-align: middle;\n",
              "    }\n",
              "\n",
              "    .dataframe tbody tr th {\n",
              "        vertical-align: top;\n",
              "    }\n",
              "\n",
              "    .dataframe thead th {\n",
              "        text-align: right;\n",
              "    }\n",
              "</style>\n",
              "<table border=\"1\" class=\"dataframe\">\n",
              "  <thead>\n",
              "    <tr style=\"text-align: right;\">\n",
              "      <th>col_0</th>\n",
              "      <th>0</th>\n",
              "      <th>1</th>\n",
              "    </tr>\n",
              "    <tr>\n",
              "      <th>row_0</th>\n",
              "      <th></th>\n",
              "      <th></th>\n",
              "    </tr>\n",
              "  </thead>\n",
              "  <tbody>\n",
              "    <tr>\n",
              "      <th>0</th>\n",
              "      <td>527</td>\n",
              "      <td>52</td>\n",
              "    </tr>\n",
              "    <tr>\n",
              "      <th>1</th>\n",
              "      <td>274</td>\n",
              "      <td>53</td>\n",
              "    </tr>\n",
              "  </tbody>\n",
              "</table>\n",
              "</div>"
            ],
            "text/plain": [
              "col_0    0   1\n",
              "row_0         \n",
              "0      527  52\n",
              "1      274  53"
            ]
          },
          "metadata": {
            "tags": []
          },
          "execution_count": 118
        }
      ]
    },
    {
      "cell_type": "code",
      "metadata": {
        "id": "o2kYPXxtJgFZ",
        "colab_type": "code",
        "colab": {}
      },
      "source": [
        "# calculate the fpr and tpr for all thresholds of the classification\n",
        "probs = model.predict_proba(X_test)\n",
        "preds = probs[:,1]\n",
        "fpr, tpr, threshold = metrics.roc_curve(y_test, preds)\n",
        "roc_auc = metrics.auc(fpr, tpr)\n",
        "\n",
        "# method I: plt\n",
        "import matplotlib.pyplot as plt\n",
        "plt.title('Receiver Operating Characteristic')\n",
        "plt.plot(fpr, tpr, 'b', label = 'AUC = %0.2f' % roc_auc)\n",
        "plt.legend(loc = 'lower right')\n",
        "plt.plot([0, 1], [0, 1],'r--')\n",
        "plt.xlim([0, 1])\n",
        "plt.ylim([0, 1])\n",
        "plt.ylabel('True Positive Rate')\n",
        "plt.xlabel('False Positive Rate')\n",
        "plt.show()"
      ],
      "execution_count": 0,
      "outputs": []
    },
    {
      "cell_type": "code",
      "metadata": {
        "colab_type": "code",
        "id": "XEyrmfY5EiQV",
        "colab": {}
      },
      "source": [
        "# let's do the eda again with the full dataset and pair down the variables like\n",
        "# sane human beings who give a shit about the result\n",
        "\n",
        "bank = pd.read_csv('https://raw.githubusercontent.com/bstrain71/422_bank_marketing/master/bank.csv', sep = ';')  # start with smaller data set\n",
        "\n",
        "\n",
        "# make yes/no variables binary\n",
        "# define binary variable for having credit in default\n",
        "bank['default'] = bank['default'].map(convert_to_binary)\n",
        "\n",
        "# define binary variable for having a mortgage or housing loan\n",
        "bank['housing'] = bank['housing'].map(convert_to_binary)\n",
        "\n",
        "# define binary variable for having a personal loan\n",
        "bank['loan'] = bank['loan'].map(convert_to_binary)\n",
        "\n",
        "# define response variable to use in the model\n",
        "bank['response'] = bank['response'].map(convert_to_binary)\n",
        "\n",
        "\n",
        "# dummy variables for job\n",
        "bank = pd.concat([bank,  pd.get_dummies(bank['job'],drop_first= True)],\n",
        "                 axis = 1)\n",
        "\n",
        "# dummy variables for marital status\n",
        "bank = pd.concat([bank,  pd.get_dummies(bank['marital'],drop_first= True)],\n",
        "                 axis = 1)\n",
        "\n",
        "# dummy variables for education\n",
        "bank = pd.concat([bank,  pd.get_dummies(bank['education'],drop_first= True)],\n",
        "                 axis = 1)\n",
        "\n",
        "\n",
        "# drop the columns i don't want\n",
        "model_data = bank.drop(['job','marital','education','contact',\n",
        "                        'day','month','poutcome'],\n",
        "                       axis = 1)"
      ],
      "execution_count": 0,
      "outputs": []
    },
    {
      "cell_type": "code",
      "metadata": {
        "id": "5fzM8-8eQj42",
        "colab_type": "code",
        "colab": {}
      },
      "source": [
        ""
      ],
      "execution_count": 0,
      "outputs": []
    }
  ]
}